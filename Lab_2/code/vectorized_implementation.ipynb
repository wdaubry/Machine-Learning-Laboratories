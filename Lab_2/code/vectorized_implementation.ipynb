{
 "cells": [
  {
   "cell_type": "code",
   "execution_count": 1,
   "metadata": {
    "pycharm": {
     "is_executing": false
    }
   },
   "outputs": [],
   "source": [
    "import numpy as np\n",
    "import time"
   ]
  },
  {
   "cell_type": "code",
   "execution_count": 2,
   "metadata": {
    "pycharm": {
     "is_executing": false
    }
   },
   "outputs": [],
   "source": [
    "# Step 1: Write function to calculate Euclidean distance \n",
    "# every pairs of rows of two matrix\n",
    "def euclidean(A, B):\n",
    "    ''' A: matrix of shape n x d\n",
    "        B: matrix of shape m x d\n",
    "    Output:\n",
    "        distances: matrix of shape n x m \n",
    "        (distances[i,j] = distance between row i of A and row j of B)\n",
    "    '''\n",
    "    na, da = A.shape\n",
    "    nb, db = B.shape\n",
    "    assert da == db, 'Incompatible shape'\n",
    "    distances = np.zeros((na,nb))\n",
    "    for i in range(na):\n",
    "        for j in range(nb):\n",
    "            distances[i,j] = np.sqrt(np.sum(np.square(A[i,:] - B[j,:])))\n",
    "    return distances"
   ]
  },
  {
   "cell_type": "code",
   "execution_count": 3,
   "metadata": {
    "pycharm": {
     "is_executing": false
    }
   },
   "outputs": [],
   "source": [
    "# Step 2: Write function to calculate Euclidean distance \n",
    "# every pairs of rows of two matrix in a VECTORIZED FORM\n",
    "def euclidean_vectorized(A, B):\n",
    "    ''' A: matrix of shape n x d\n",
    "        B: matrix of shape m x d\n",
    "    Output:\n",
    "        distances: matrix of shape n x m \n",
    "        (distances[i,j] = distance between row i of A and row j of B)\n",
    "    There should be no for loop in this implementation\n",
    "    '''\n",
    "    na, da = A.shape\n",
    "    nb, db = B.shape\n",
    "    assert da == db, 'Incompatible shape'\n",
    "    A_ = np.sum(np.square(A), axis=1, keepdims=True)\n",
    "    B_ = np.sum(np.square(B), axis=1, keepdims=True)\n",
    "    AB = np.matmul(A, B.T)\n",
    "    distances = np.sqrt(A_ -2*AB + B_.T)\n",
    "    return distances\n"
   ]
  },
  {
   "cell_type": "code",
   "execution_count": 4,
   "metadata": {
    "pycharm": {
     "is_executing": false
    }
   },
   "outputs": [
    {
     "name": "stdout",
     "text": [
      "The two functions produce the same results\n"
     ],
     "output_type": "stream"
    }
   ],
   "source": [
    "# Step 3: Compare the results of the two distance calculation functions\n",
    "A = np.random.randn(50,10)\n",
    "B = np.random.randn(60,10)\n",
    "d1 = euclidean(A,B)\n",
    "d2 = euclidean_vectorized(A,B)\n",
    "assert np.allclose(d1,d2), 'Incorrect implementation of at least one distance function'\n",
    "print('The two functions produce the same results')"
   ]
  },
  {
   "cell_type": "code",
   "execution_count": 5,
   "metadata": {
    "pycharm": {
     "is_executing": false
    }
   },
   "outputs": [
    {
     "name": "stdout",
     "text": [
      "Finish function euclidean in 2.525110 seconds\n",
      "Finish function euclidean_vectorized in 0.005321 seconds\n",
      "Speed up factor: 474.553231 \n"
     ],
     "output_type": "stream"
    }
   ],
   "source": [
    "# Step 4: Compare the running times of the two distance calculation functions\n",
    "A = np.random.randn(500,30)\n",
    "B = np.random.randn(600,30)\n",
    "start = time.time()\n",
    "d1 = euclidean(A,B)\n",
    "time1 = time.time() - start\n",
    "start = time.time()\n",
    "d2 = euclidean_vectorized(A,B)\n",
    "time2 = time.time() - start\n",
    "print('Finish function euclidean in %f seconds' %time1)\n",
    "print('Finish function euclidean_vectorized in %f seconds' %time2)\n",
    "print('Speed up factor: %f ' %(time1 / time2))"
   ]
  },
  {
   "cell_type": "code",
   "execution_count": 5,
   "metadata": {
    "pycharm": {
     "is_executing": false
    }
   },
   "outputs": [],
   "source": []
  }
 ],
 "metadata": {
  "kernelspec": {
   "name": "python3",
   "language": "python",
   "display_name": "Python 3"
  },
  "language_info": {
   "codemirror_mode": {
    "name": "ipython",
    "version": 2
   },
   "file_extension": ".py",
   "mimetype": "text/x-python",
   "name": "python",
   "nbconvert_exporter": "python",
   "pygments_lexer": "ipython2",
   "version": "2.7.15"
  },
  "pycharm": {
   "stem_cell": {
    "cell_type": "raw",
    "source": [],
    "metadata": {
     "collapsed": false
    }
   }
  }
 },
 "nbformat": 4,
 "nbformat_minor": 2
}