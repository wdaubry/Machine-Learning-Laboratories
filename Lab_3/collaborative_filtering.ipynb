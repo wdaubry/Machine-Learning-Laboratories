{
 "cells": [
  {
   "cell_type": "code",
   "execution_count": 6,
   "metadata": {
    "pycharm": {
     "is_executing": false
    }
   },
   "outputs": [],
   "source": [
    "### Step 1: Load data and create masks\n",
    "import numpy as np\n",
    "\n",
    "def load_rating(fname, N=943, M=1682):\n",
    "    ''' load rating file with the format: UserID::MovieID::Rating::Timestamp\n",
    "    Can be used with MovieLens100K & MovieLens1M\n",
    "    Params:\n",
    "        - fname: file name\n",
    "        - N: number of users\n",
    "        - M: number of items (e.g. movies)\n",
    "    '''\n",
    "    R = np.zeros((N, M))\n",
    "    with open(fname, 'r') as fin:\n",
    "        lines = fin.readlines()\n",
    "        for line in lines:\n",
    "            splt = line.strip().split('\\t')\n",
    "            uid = int(splt[0]) - 1\n",
    "            mid = int(splt[1]) - 1\n",
    "            r = float(splt[2])\n",
    "            R[uid,mid] = r\n",
    "    return R\n",
    "\n",
    "# load training and testing sets\n",
    "data_train = load_rating(\"u1.base\")\n",
    "data_test = load_rating(\"u1.test\")\n",
    "\n",
    "n_users_train, n_movies_train = data_train.shape\n",
    "n_users_test, n_movies_test = data_test.shape\n",
    "\n",
    "# create mask matrix\n",
    "def create_mask(X):\n",
    "    mask = X > 0\n",
    "    return mask.astype(int)"
   ]
  },
  {
   "cell_type": "code",
   "execution_count": 7,
   "metadata": {
    "pycharm": {
     "is_executing": false
    }
   },
   "outputs": [],
   "source": [
    "### Step 2: Implement functions to calculate cost and gradients\n",
    "# This function computes the cost that we want to minimize\n",
    "def compute_cost(U, V, R, _lambda, mask):\n",
    "    ''' \n",
    "    Inputs: \n",
    "        U: A matrix contains users' feature\n",
    "        V: A matrix contains movies' feature\n",
    "        R: A matrix contains ground truth (size: n_movies x n_users)\n",
    "        _lambda: Regularization weight\n",
    "        mask: The binary mask matrix\n",
    "    Output:\n",
    "        loss: (scalar) the mean square error over known elements in R\n",
    "    '''\n",
    "    assert U.shape[1] == V.shape[1]\n",
    "    assert U.shape[0]== R.shape[0]\n",
    "    assert V.shape[0] == R.shape[1]\n",
    "    assert R.shape == mask.shape\n",
    "    numerator = (((np.matmul(U,V.T) - R)**2) * mask).sum()\n",
    "    return (0.5 * numerator / mask.sum() + 0.5 * _lambda * (U**2).sum() \n",
    "            + 0.5 * _lambda * (V**2).sum())\n",
    "    \n",
    "\n",
    "# This function computes partial derivatives of the cost function w.r.t. movie and user features\n",
    "def compute_gradient(U, V, R, _lambda, mask):\n",
    "    ''' \n",
    "    Inputs: \n",
    "        U: A matrix contains users' feature\n",
    "        V: A matrix contains movies' feature\n",
    "        R: A matrix contains ground truth (size: n_movies x n_users)\n",
    "        _lambda: Regularization weight\n",
    "        mask: The binary mask matrix\n",
    "    Output:\n",
    "        grad_U: gradients of the cost function w.r.t. U, must have the same shape as U\n",
    "        grad_V: gradients of the cost function w.r.t. U, must have the same shape as V\n",
    "    '''\n",
    "    assert U.shape[1] == V.shape[1]\n",
    "    assert U.shape[0] == R.shape[0]\n",
    "    assert V.shape[0] == R.shape[1]\n",
    "    assert R.shape == mask.shape\n",
    "    mul = np.matmul(U, V.T)\n",
    "    gradient_U = np.matmul((mul - R) * mask, V) + _lambda * U\n",
    "    gradient_V = np.matmul(((mul - R) * mask).T, U) + _lambda * V\n",
    "    \n",
    "    return gradient_U, gradient_V"
   ]
  },
  {
   "cell_type": "code",
   "execution_count": 8,
   "metadata": {
    "pycharm": {
     "is_executing": false
    }
   },
   "outputs": [
    {
     "name": "stdout",
     "text": [
      "Iteration: 10 cost:  4.089088848512629\n",
      "Iteration: 20 cost:  1.0763312094434376\n",
      "Iteration: 30 cost:  0.8962543752829503\n",
      "Iteration: 40 cost:  0.855920503274689\n",
      "Iteration: 50 cost:  0.8400049077738642\n",
      "Iteration: 60 cost:  0.8310800493222239\n",
      "Iteration: 70 cost:  0.824948176456816\n",
      "Iteration: 80 cost:  0.8203329414750543\n",
      "Iteration: 90 cost:  0.8167665892950822\n",
      "Iteration: 100 cost:  0.8140178603327046\n",
      "Iteration: 110 cost:  0.8119336970273399\n",
      "Iteration: 120 cost:  0.8103986434413946\n",
      "Iteration: 130 cost:  0.8093216503985644\n",
      "Iteration: 140 cost:  0.8086292188177431\n",
      "Iteration: 150 cost:  0.8082611070249703\n"
     ],
     "output_type": "stream"
    }
   ],
   "source": [
    "### Step 3: Training\n",
    "n_features = 10\n",
    "# randomly initialize U and V \n",
    "U = 0.25 * np.random.randn(n_users_train, n_features)\n",
    "V = 0.25 * np.random.randn(n_movies_train, n_features)\n",
    "# regularization weight\n",
    "_lambda = 0.0001\n",
    "# learning rate\n",
    "alpha = 0.001\n",
    "# number of training iteration\n",
    "training_iterations = 150\n",
    "\n",
    "mask = create_mask(data_train)\n",
    "counter = 0\n",
    "while counter < training_iterations:\n",
    "    # perform one step of training\n",
    "    grad_U, grad_V = compute_gradient(U, V, data_train, _lambda, mask)\n",
    "    \n",
    "    U = U - alpha * grad_U\n",
    "    V = V - alpha * grad_V\n",
    "    \n",
    "    cost = compute_cost(U, V, data_train, _lambda, mask)\n",
    "    # increase counter\n",
    "    counter += 1\n",
    "    if counter % 10 == 0:\n",
    "        print(\"Iteration:\",counter,\"cost: \",cost)"
   ]
  },
  {
   "cell_type": "code",
   "execution_count": 9,
   "metadata": {
    "pycharm": {
     "is_executing": false
    }
   },
   "outputs": [],
   "source": [
    "# Step 4: Evaluation function \n",
    "def RMSE(A, B, mask):\n",
    "    ''' Root mean square error\n",
    "    '''\n",
    "    rmse = np.sqrt(np.sum(mask * np.square(A - B)) / np.sum(mask))\n",
    "    return rmse\n",
    "\n",
    "def MAE(A, B, mask):\n",
    "    ''' Mean absolute error\n",
    "    '''\n",
    "    mae = np.sum(mask * np.abs(A - B)) / np.sum(mask)\n",
    "    return mae"
   ]
  },
  {
   "cell_type": "code",
   "execution_count": 10,
   "metadata": {
    "pycharm": {
     "is_executing": false
    }
   },
   "outputs": [
    {
     "name": "stdout",
     "text": [
      "RMSE_train:  0.7857441822078833\n",
      "MAE_train:  0.6191299429025515\n",
      "RMSE_test:  0.9905016659985496\n",
      "MAE_test:  0.7706869450652213\n"
     ],
     "output_type": "stream"
    }
   ],
   "source": [
    "### Step 5: Evaluate the model\n",
    "# make prediction\n",
    "prediction = np.dot(U, V.T)\n",
    "\n",
    "# Compute RMSE and MAE on the training set\n",
    "print(\"RMSE_train: \", RMSE(data_train, prediction, mask))\n",
    "print(\"MAE_train: \", MAE(data_train, prediction, mask))\n",
    "\n",
    "# Compute RMSE and MAE on the testing set\n",
    "mask_test = create_mask(data_test)\n",
    "print(\"RMSE_test: \",RMSE(data_test, prediction, mask_test))\n",
    "print(\"MAE_test: \",MAE(data_test, prediction, mask_test))"
   ]
  }
 ],
 "metadata": {
  "kernelspec": {
   "display_name": "Python 3",
   "language": "python",
   "name": "python3"
  },
  "language_info": {
   "codemirror_mode": {
    "name": "ipython",
    "version": 3
   },
   "file_extension": ".py",
   "mimetype": "text/x-python",
   "name": "python",
   "nbconvert_exporter": "python",
   "pygments_lexer": "ipython3",
   "version": "3.5.5"
  },
  "pycharm": {
   "stem_cell": {
    "cell_type": "raw",
    "source": [],
    "metadata": {
     "collapsed": false
    }
   }
  }
 },
 "nbformat": 4,
 "nbformat_minor": 2
}