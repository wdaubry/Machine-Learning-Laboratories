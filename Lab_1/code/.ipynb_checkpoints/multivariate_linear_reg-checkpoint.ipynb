{
 "cells": [
  {
   "cell_type": "code",
   "execution_count": 4,
   "metadata": {
    "pycharm": {
     "is_executing": false
    }
   },
   "outputs": [],
   "source": [
    "import numpy as np # import numpy for matrix operations"
   ]
  },
  {
   "cell_type": "code",
   "execution_count": 5,
   "metadata": {
    "pycharm": {
     "is_executing": false
    }
   },
   "outputs": [],
   "source": [
    "### this function load data from .dat file\n",
    "def load_dat(filename):\n",
    "    with open(filename, 'r') as fin:\n",
    "        lines = fin.readlines()\n",
    "        dim = len(lines[0].strip().split())\n",
    "        num_samples = len(lines)\n",
    "        data = np.zeros((num_samples, dim))\n",
    "        for i in range(num_samples):\n",
    "            data[i, :] = np.array([float(x) for x in lines[i].strip().split()])\n",
    "        return data "
   ]
  },
  {
   "cell_type": "code",
   "execution_count": 6,
   "metadata": {
    "pycharm": {
     "is_executing": false
    }
   },
   "outputs": [
    {
     "name": "stdout",
     "text": [
      "X (47 x 2)\n",
      "Y (47)\n"
     ],
     "output_type": "stream"
    }
   ],
   "source": [
    "### load data\n",
    "# call the load_dat function to load X and Y from the corresponding input files\n",
    "X = load_dat(\"ex1x.dat\")\n",
    "Y =  load_dat(\"ex1y.dat\")\n",
    "# get some statistics of the data\n",
    "num_samples = X.shape[0] # get the first dimension of X (i.e. number of rows)\n",
    "dim = X.shape[1] # get the second dimension of X (i.e. number of columns)\n",
    "print('X (%d x %d)' %(num_samples, dim))\n",
    "print('Y (%d)' %(num_samples))"
   ]
  },
  {
   "cell_type": "code",
   "execution_count": 7,
   "metadata": {
    "pycharm": {
     "is_executing": false
    }
   },
   "outputs": [
    {
     "name": "stdout",
     "text": [
      "X (47 x 3)\n",
      "Y (47 x 1)\n"
     ],
     "output_type": "stream"
    }
   ],
   "source": [
    "### add intercept term to all samples in X \n",
    "X = np.resize(X, (num_samples, dim + 1)) # resize X to add a new dimension\n",
    "X[:,dim]= 1.0 # set all value in the new dimension of X to 1\n",
    "Y = Y.reshape([-1,1]) \n",
    "print('X (%d x %d)' %(num_samples, dim + 1))\n",
    "print('Y (%d x 1)' %(num_samples))"
   ]
  },
  {
   "cell_type": "code",
   "execution_count": 8,
   "metadata": {
    "pycharm": {
     "is_executing": false
    }
   },
   "outputs": [],
   "source": [
    "### main functions of multivariate linear regression\n",
    "def pseudo_inverse(A):\n",
    "    # The pseudo inverse:\n",
    "    # Input: a matrix A\n",
    "    # Output: the pseudo_inverse of A\n",
    "    ### Your code here ###\n",
    "    \n",
    "    A_transposed = A.transpose()\n",
    "    AtA = np.matmul(A_transposed, A)\n",
    "    AtaInv = np.linalg.inv(AtA)\n",
    "    response = np.matmul(AtaInv, A_transposed)\n",
    "    \n",
    "    return response\n",
    "    \n",
    "    \n",
    "def sse(prediction,reference):\n",
    "    # Calculate the sum of square error between the prediction and reference vectors\n",
    "    ### Your code here ###\n",
    "    \n",
    "    if len(prediction) == len(reference):\n",
    "        sse = 0\n",
    "        \n",
    "        for i in range(0, len(prediction)):\n",
    "            sse += (prediction[i] - reference[i])**2\n",
    "        \n",
    "    else:\n",
    "        sse = 666\n",
    "        \n",
    "    return sse\n"
   ]
  },
  {
   "cell_type": "code",
   "execution_count": 9,
   "metadata": {
    "pycharm": {
     "is_executing": false
    }
   },
   "outputs": [
    {
     "name": "stdout",
     "text": [
      "[[-9.94287356e+00]\n",
      " [-1.38718176e+01]\n",
      " [ 3.64649782e+05]]\n"
     ],
     "output_type": "stream"
    }
   ],
   "source": [
    "### estimate beta\n",
    "# call the pseudo_inverse to estimate beta from X and Y\n",
    "pseudo_X = pseudo_inverse(X)\n",
    "beta =  np.matmul(pseudo_X, Y)\n",
    "# print the estimated (learned) parameters\n",
    "print(beta)"
   ]
  },
  {
   "cell_type": "code",
   "execution_count": 10,
   "metadata": {
    "pycharm": {
     "is_executing": false
    }
   },
   "outputs": [
    {
     "name": "stdout",
     "text": [
      "Sum of square error: 715431334237.088013\n"
     ],
     "output_type": "stream"
    }
   ],
   "source": [
    "### evaluate the model\n",
    "# calculate the predicted scores\n",
    "prediction =  np.matmul(X, beta)\n",
    "# calculate the sum of square error\n",
    "error = sse(prediction, Y)\n",
    "print('Sum of square error: %f' %error)"
   ]
  },
  {
   "cell_type": "code",
   "execution_count": 11,
   "metadata": {
    "pycharm": {
     "is_executing": false
    }
   },
   "outputs": [
    {
     "traceback": [
      "\u001b[0;36m  File \u001b[0;32m\"<ipython-input-11-dd153804a6fa>\"\u001b[0;36m, line \u001b[0;32m5\u001b[0m\n\u001b[0;31m    beta_2 =  ### Your code here\u001b[0m\n\u001b[0m              ^\u001b[0m\n\u001b[0;31mSyntaxError\u001b[0m\u001b[0;31m:\u001b[0m invalid syntax\n"
     ],
     "ename": "SyntaxError",
     "evalue": "invalid syntax (<ipython-input-11-dd153804a6fa>, line 5)",
     "output_type": "error"
    }
   ],
   "source": [
    "### Extra step \n",
    "# generate synthetic scores \n",
    "Ys = 3 * X[:,0] + 2 * X[:,1] + 0.5 * X[:,2] # generate Ys using a linear function of the features of X\n",
    "# perform multivariate linear regression with X and Ys as inputs\n",
    "beta_2 =  ### Your code here\n",
    "print('beta_2: ', beta_2)\n",
    "# calculate the predicted scores\n",
    "prediction_2 =  ### Your code here\n",
    "# calculate the sum of square error\n",
    "error_2 = sse(prediction_2, Ys) \n",
    "print('Sum of square error: %f' %error_2) "
   ]
  },
  {
   "cell_type": "code",
   "execution_count": null,
   "metadata": {
    "collapsed": true,
    "pycharm": {
     "is_executing": false
    }
   },
   "outputs": [],
   "source": []
  }
 ],
 "metadata": {
  "anaconda-cloud": {},
  "kernelspec": {
   "display_name": "Python 3",
   "language": "python",
   "name": "python3"
  },
  "language_info": {
   "codemirror_mode": {
    "name": "ipython",
    "version": 3
   },
   "file_extension": ".py",
   "mimetype": "text/x-python",
   "name": "python",
   "nbconvert_exporter": "python",
   "pygments_lexer": "ipython3",
   "version": "3.8.1"
  }
 },
 "nbformat": 4,
 "nbformat_minor": 1
}