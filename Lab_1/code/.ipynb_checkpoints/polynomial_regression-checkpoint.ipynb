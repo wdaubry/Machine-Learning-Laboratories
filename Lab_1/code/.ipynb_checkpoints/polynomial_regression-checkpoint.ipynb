{
 "cells": [
  {
   "cell_type": "code",
   "execution_count": 92,
   "metadata": {
    "collapsed": true,
    "pycharm": {
     "is_executing": false
    }
   },
   "outputs": [],
   "source": [
    "from sklearn import datasets\n",
    "import numpy as np"
   ]
  },
  {
   "cell_type": "code",
   "execution_count": 93,
   "metadata": {
    "pycharm": {
     "is_executing": false
    }
   },
   "outputs": [
    {
     "name": "stdout",
     "text": [
      "(506, 13)\n",
      "(506,)\n"
     ],
     "output_type": "stream"
    }
   ],
   "source": [
    "# load dataset\n",
    "    # Because the data set is included in sklearn\n",
    "X, y = datasets.load_boston(return_X_y=True)\n",
    "print(X.shape)\n",
    "print(y.shape)"
   ]
  },
  {
   "cell_type": "code",
   "execution_count": 94,
   "metadata": {
    "pycharm": {
     "is_executing": false
    }
   },
   "outputs": [
    {
     "name": "stdout",
     "text": [
      "(506, 18)\n"
     ],
     "output_type": "stream"
    }
   ],
   "source": [
    "# create virtual features, including\n",
    "#   second degree of the first variable\n",
    "#   second degrees of the eighth variable\n",
    "#   third and second degrees of the eleventh variable\n",
    "X_virtual = [np.power(X[:, 0], 2).reshape([-1, 1]),\n",
    "             np.power(X[:, 7], 2).reshape([-1, 1]),\n",
    "             np.power(X[:, 10], 2).reshape([-1, 1]),\n",
    "             np.power(X[:, 10], 3).reshape([-1, 1])\n",
    "             ]\n",
    "\n",
    "X_virtual = np.hstack(X_virtual)\n",
    "\n",
    "X = np.hstack((X, X_virtual))\n",
    "\n",
    "# concatenate the virtual feature to the original features\n",
    "### Your code here ###\n",
    "\n",
    "# add a dimension with all 1 to account for the intercept term\n",
    "intercept = np.ones((X.shape[0], 1))\n",
    "X = np.hstack((intercept, X))\n",
    "print(X.shape)\n",
    "# 18 : 13 of power 1, 3 of power 2, 1 of power 3, 1 of 1"
   ]
  },
  {
   "cell_type": "code",
   "execution_count": 95,
   "metadata": {
    "pycharm": {
     "is_executing": false
    }
   },
   "outputs": [
    {
     "name": "stdout",
     "text": [
      "Train/Test: 404/102\n"
     ],
     "output_type": "stream"
    }
   ],
   "source": [
    "# split training and testing dataset\n",
    "    #Should never evaluate quality of a training with the training data set\n",
    "train_ratio = 0.8\n",
    "cutoff = int(X.shape[0] * train_ratio)\n",
    "X_tr = X[:cutoff, :]\n",
    "y_tr = y[:cutoff]\n",
    "X_te = X[cutoff:,:]\n",
    "y_te = y[cutoff:]\n",
    "print('Train/Test: %d/%d' %(X_tr.shape[0], X_te.shape[0]))"
   ]
  },
  {
   "cell_type": "code",
   "execution_count": 96,
   "metadata": {
    "collapsed": true,
    "pycharm": {
     "is_executing": false
    }
   },
   "outputs": [],
   "source": [
    "# linear regression using the normal equation\n",
    "def pseudo_inverse(A):\n",
    "    # Calculate the pseudo_inverse of A\n",
    "    pinv = np.matmul(np.linalg.inv(np.matmul(A.T, A)), A.T)\n",
    "    return pinv "
   ]
  },
  {
   "cell_type": "code",
   "execution_count": 97,
   "metadata": {
    "collapsed": true,
    "pycharm": {
     "is_executing": false
    }
   },
   "outputs": [
    {
     "name": "stdout",
     "text": [
      "[-1.47822550e+00 -3.59182467e-01  1.31208586e-02  2.26267134e-02\n",
      "  2.32167330e+00 -2.61172210e+01  4.54735694e+00 -2.16637465e-02\n",
      " -4.33747425e+00  5.94472123e-01 -2.04450470e-02  1.08486487e+01\n",
      " -9.76338632e-04 -5.04278271e-01  1.67320750e-03  2.60153051e-01\n",
      " -8.45782884e-01  1.91551718e-02]\n"
     ],
     "output_type": "stream"
    }
   ],
   "source": [
    "# fit the polynomial on the training set\n",
    "beta = np.matmul(pseudo_inverse(X_tr), y_tr)### Your code here ###\n",
    "\n",
    "print(beta)"
   ]
  },
  {
   "cell_type": "code",
   "execution_count": 98,
   "outputs": [],
   "source": [
    "# evaluation functions\n",
    "def MSE(prediction,reference):\n",
    "    # Calculate the mean square error between the prediction and reference vectors\n",
    "    mse = 0.5 * np.mean(np.square(prediction - reference))\n",
    "    return mse \n",
    "\n",
    "def MAE(prediction, reference):\n",
    "    # Calculate the mean absolute error between the prediction and reference vectors\n",
    "    mae = np.mean(np.abs(prediction - reference))\n",
    "    return mae "
   ],
   "metadata": {
    "collapsed": false,
    "pycharm": {
     "name": "#%%\n",
     "is_executing": false
    }
   }
  },
  {
   "cell_type": "code",
   "execution_count": 99,
   "metadata": {
    "collapsed": true,
    "pycharm": {
     "is_executing": false
    }
   },
   "outputs": [
    {
     "name": "stdout",
     "text": [
      "14.22605591075512\n",
      "4.292972964649149\n"
     ],
     "output_type": "stream"
    }
   ],
   "source": [
    "# make prediction on the testing set\n",
    "\n",
    "pred = np.matmul(X_te, beta)\n",
    "mse = MSE(pred, y_te)\n",
    "mae = MAE(pred, y_te)\n",
    "print(mse)\n",
    "print(mae)"
   ]
  },
  {
   "cell_type": "code",
   "execution_count": 100,
   "metadata": {
    "collapsed": true,
    "pycharm": {
     "is_executing": false
    }
   },
   "outputs": [],
   "source": [
    "# regularized linear regression \n",
    "def regularized_pseudo_inverse(A, theta):\n",
    "    # Calculate the regularized pseudo_inverse of A\n",
    "    dim = A.shape[1]\n",
    "    first = np.matmul(A.T, A)\n",
    "    second = theta * np.identity(dim)\n",
    "    inv = np.linalg.inv(first + second)\n",
    "    pinv = np.matmul(inv, A.T)\n",
    "    return pinv "
   ]
  },
  {
   "cell_type": "code",
   "execution_count": 101,
   "metadata": {
    "collapsed": true,
    "pycharm": {
     "is_executing": false
    }
   },
   "outputs": [],
   "source": [
    "# fit the polynomial, regularized by theta\n",
    "theta = 0.5\n",
    "beta_regularized = np.matmul(regularized_pseudo_inverse(X_tr, theta), y_tr)"
   ]
  },
  {
   "cell_type": "code",
   "execution_count": 102,
   "metadata": {
    "collapsed": true,
    "pycharm": {
     "is_executing": false
    }
   },
   "outputs": [
    {
     "name": "stdout",
     "text": [
      "13.56037042427132\n",
      "4.240972207980278\n"
     ],
     "output_type": "stream"
    }
   ],
   "source": [
    "# make prediction on the testing set\n",
    "\n",
    "pred_2 = np.matmul(X_te, beta_regularized)### Your code here ###\n",
    "mse = MSE(pred_2, y_te)\n",
    "mae = MAE(pred_2, y_te)\n",
    "print(mse)\n",
    "print(mae)"
   ]
  }
 ],
 "metadata": {
  "anaconda-cloud": {},
  "kernelspec": {
   "display_name": "Python 3",
   "language": "python",
   "name": "python3"
  },
  "language_info": {
   "codemirror_mode": {
    "name": "ipython",
    "version": 3
   },
   "file_extension": ".py",
   "mimetype": "text/x-python",
   "name": "python",
   "nbconvert_exporter": "python",
   "pygments_lexer": "ipython3",
   "version": "3.8.1"
  },
  "pycharm": {
   "stem_cell": {
    "cell_type": "raw",
    "source": [],
    "metadata": {
     "collapsed": false
    }
   }
  }
 },
 "nbformat": 4,
 "nbformat_minor": 2
}